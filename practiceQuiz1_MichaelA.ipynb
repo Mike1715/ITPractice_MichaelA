{
  "nbformat": 4,
  "nbformat_minor": 0,
  "metadata": {
    "colab": {
      "provenance": [],
      "collapsed_sections": [],
      "authorship_tag": "ABX9TyNSIjS2xyAAtpyqr47o8U3p",
      "include_colab_link": true
    },
    "kernelspec": {
      "name": "python3",
      "display_name": "Python 3"
    },
    "language_info": {
      "name": "python"
    }
  },
  "cells": [
    {
      "cell_type": "markdown",
      "metadata": {
        "id": "view-in-github",
        "colab_type": "text"
      },
      "source": [
        "<a href=\"https://colab.research.google.com/github/Mike1715/ITPractice_MichaelA/blob/main/practiceQuiz1_MichaelA.ipynb\" target=\"_parent\"><img src=\"https://colab.research.google.com/assets/colab-badge.svg\" alt=\"Open In Colab\"/></a>"
      ]
    },
    {
      "cell_type": "code",
      "execution_count": 9,
      "metadata": {
        "colab": {
          "base_uri": "https://localhost:8080/"
        },
        "id": "WZEmUKUlSCq3",
        "outputId": "49c8215f-02c6-4a8f-fabc-b7bdc534e39f"
      },
      "outputs": [
        {
          "output_type": "stream",
          "name": "stdout",
          "text": [
            "provide the height of the rectangle:  2.2\n",
            "provide the width of the rectnagle:    2.4\n",
            "perimeter of rectangle with the width of 2.4 and height of 2.2 is 10.56 and the area is 5.28\n"
          ]
        }
      ],
      "source": [
        "#Question 1\n",
        "height=float(input('provide the height of the rectangle:  '))\n",
        "width=float(input('provide the width of the rectnagle:    '))\n",
        "perimeter = 2*(width*height)\n",
        "area=1*(width*height)\n",
        "print('perimeter of rectangle with the width of', width, 'and height of', height, 'is',perimeter, 'and the area is', area, )\n",
        "\n",
        "\n",
        "\n",
        "\n"
      ]
    },
    {
      "cell_type": "code",
      "source": [
        "#Question 2.0\n",
        "weight=float(input('enter your weight in lbs:  '))\n",
        "height=float(input('enter your height in inches:  '))\n",
        "BMI= (weight/(height**2))*703\n",
        "\n",
        "\n",
        "print('the BMI of you with your weight {:.2f} and height of {:.1f} is {:.3f}'.format(weight, height, BMI ))"
      ],
      "metadata": {
        "colab": {
          "base_uri": "https://localhost:8080/"
        },
        "id": "ISuGH1veY0in",
        "outputId": "ee3d40bc-d4a8-485c-ccdb-87fb78e2c51b"
      },
      "execution_count": 24,
      "outputs": [
        {
          "output_type": "stream",
          "name": "stdout",
          "text": [
            "enter your weight in lbs:  191\n",
            "enter your height in inches:  69\n",
            "the BMI of you with your weight 191.00 and height of 69.0 is 28.203\n"
          ]
        }
      ]
    }
  ]
}